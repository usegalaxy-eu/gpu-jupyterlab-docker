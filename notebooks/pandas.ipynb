{
 "cells": [
  {
   "cell_type": "markdown",
   "id": "71c854b4-5540-4caf-8b6e-4e790d4a8042",
   "metadata": {},
   "source": [
    "## Data manipulation with Pandas"
   ]
  },
  {
   "cell_type": "markdown",
   "id": "3a2fe82c-197f-439f-8a1e-2fc49d100c20",
   "metadata": {},
   "source": [
    "#### Viewing data"
   ]
  },
  {
   "cell_type": "code",
   "execution_count": 2,
   "id": "84d45a67-6b5e-4714-af01-2d122dbfdc9f",
   "metadata": {},
   "outputs": [],
   "source": [
    "## https://pandas.pydata.org/\n",
    "\n",
    "import pandas as pd\n",
    "import numpy as np"
   ]
  },
  {
   "cell_type": "code",
   "execution_count": 45,
   "id": "35b3086b-6d39-4b46-90e7-3be9d3aef544",
   "metadata": {},
   "outputs": [],
   "source": [
    "dates = pd.date_range(\"20130101\", periods=6)\n",
    "df = pd.DataFrame(np.random.randn(6, 4), index=dates, columns=list(\"ABCD\")) # Create a dataframe"
   ]
  },
  {
   "cell_type": "code",
   "execution_count": 46,
   "id": "4edb49eb-5bd1-4849-86c3-9632cbac899e",
   "metadata": {},
   "outputs": [
    {
     "data": {
      "text/html": [
       "<div>\n",
       "<style scoped>\n",
       "    .dataframe tbody tr th:only-of-type {\n",
       "        vertical-align: middle;\n",
       "    }\n",
       "\n",
       "    .dataframe tbody tr th {\n",
       "        vertical-align: top;\n",
       "    }\n",
       "\n",
       "    .dataframe thead th {\n",
       "        text-align: right;\n",
       "    }\n",
       "</style>\n",
       "<table border=\"1\" class=\"dataframe\">\n",
       "  <thead>\n",
       "    <tr style=\"text-align: right;\">\n",
       "      <th></th>\n",
       "      <th>A</th>\n",
       "      <th>B</th>\n",
       "      <th>C</th>\n",
       "      <th>D</th>\n",
       "    </tr>\n",
       "  </thead>\n",
       "  <tbody>\n",
       "    <tr>\n",
       "      <th>2013-01-01</th>\n",
       "      <td>0.167907</td>\n",
       "      <td>-1.498833</td>\n",
       "      <td>0.972366</td>\n",
       "      <td>-1.374921</td>\n",
       "    </tr>\n",
       "    <tr>\n",
       "      <th>2013-01-02</th>\n",
       "      <td>-0.360289</td>\n",
       "      <td>0.269211</td>\n",
       "      <td>1.567502</td>\n",
       "      <td>-0.517788</td>\n",
       "    </tr>\n",
       "    <tr>\n",
       "      <th>2013-01-03</th>\n",
       "      <td>1.023834</td>\n",
       "      <td>1.444119</td>\n",
       "      <td>-0.649933</td>\n",
       "      <td>0.834424</td>\n",
       "    </tr>\n",
       "    <tr>\n",
       "      <th>2013-01-04</th>\n",
       "      <td>0.438475</td>\n",
       "      <td>0.790262</td>\n",
       "      <td>2.443606</td>\n",
       "      <td>1.796077</td>\n",
       "    </tr>\n",
       "    <tr>\n",
       "      <th>2013-01-05</th>\n",
       "      <td>-0.642956</td>\n",
       "      <td>-0.003621</td>\n",
       "      <td>0.606623</td>\n",
       "      <td>-0.348645</td>\n",
       "    </tr>\n",
       "    <tr>\n",
       "      <th>2013-01-06</th>\n",
       "      <td>1.275841</td>\n",
       "      <td>0.310626</td>\n",
       "      <td>0.202771</td>\n",
       "      <td>0.687557</td>\n",
       "    </tr>\n",
       "  </tbody>\n",
       "</table>\n",
       "</div>"
      ],
      "text/plain": [
       "                   A         B         C         D\n",
       "2013-01-01  0.167907 -1.498833  0.972366 -1.374921\n",
       "2013-01-02 -0.360289  0.269211  1.567502 -0.517788\n",
       "2013-01-03  1.023834  1.444119 -0.649933  0.834424\n",
       "2013-01-04  0.438475  0.790262  2.443606  1.796077\n",
       "2013-01-05 -0.642956 -0.003621  0.606623 -0.348645\n",
       "2013-01-06  1.275841  0.310626  0.202771  0.687557"
      ]
     },
     "execution_count": 46,
     "metadata": {},
     "output_type": "execute_result"
    }
   ],
   "source": [
    "df"
   ]
  },
  {
   "cell_type": "code",
   "execution_count": 47,
   "id": "49702620-ef9d-406f-bf18-1719d0c38c8b",
   "metadata": {},
   "outputs": [
    {
     "data": {
      "text/html": [
       "<div>\n",
       "<style scoped>\n",
       "    .dataframe tbody tr th:only-of-type {\n",
       "        vertical-align: middle;\n",
       "    }\n",
       "\n",
       "    .dataframe tbody tr th {\n",
       "        vertical-align: top;\n",
       "    }\n",
       "\n",
       "    .dataframe thead th {\n",
       "        text-align: right;\n",
       "    }\n",
       "</style>\n",
       "<table border=\"1\" class=\"dataframe\">\n",
       "  <thead>\n",
       "    <tr style=\"text-align: right;\">\n",
       "      <th></th>\n",
       "      <th>A</th>\n",
       "      <th>B</th>\n",
       "      <th>C</th>\n",
       "      <th>D</th>\n",
       "    </tr>\n",
       "  </thead>\n",
       "  <tbody>\n",
       "    <tr>\n",
       "      <th>2013-01-01</th>\n",
       "      <td>0.167907</td>\n",
       "      <td>-1.498833</td>\n",
       "      <td>0.972366</td>\n",
       "      <td>-1.374921</td>\n",
       "    </tr>\n",
       "    <tr>\n",
       "      <th>2013-01-02</th>\n",
       "      <td>-0.360289</td>\n",
       "      <td>0.269211</td>\n",
       "      <td>1.567502</td>\n",
       "      <td>-0.517788</td>\n",
       "    </tr>\n",
       "    <tr>\n",
       "      <th>2013-01-03</th>\n",
       "      <td>1.023834</td>\n",
       "      <td>1.444119</td>\n",
       "      <td>-0.649933</td>\n",
       "      <td>0.834424</td>\n",
       "    </tr>\n",
       "    <tr>\n",
       "      <th>2013-01-04</th>\n",
       "      <td>0.438475</td>\n",
       "      <td>0.790262</td>\n",
       "      <td>2.443606</td>\n",
       "      <td>1.796077</td>\n",
       "    </tr>\n",
       "    <tr>\n",
       "      <th>2013-01-05</th>\n",
       "      <td>-0.642956</td>\n",
       "      <td>-0.003621</td>\n",
       "      <td>0.606623</td>\n",
       "      <td>-0.348645</td>\n",
       "    </tr>\n",
       "  </tbody>\n",
       "</table>\n",
       "</div>"
      ],
      "text/plain": [
       "                   A         B         C         D\n",
       "2013-01-01  0.167907 -1.498833  0.972366 -1.374921\n",
       "2013-01-02 -0.360289  0.269211  1.567502 -0.517788\n",
       "2013-01-03  1.023834  1.444119 -0.649933  0.834424\n",
       "2013-01-04  0.438475  0.790262  2.443606  1.796077\n",
       "2013-01-05 -0.642956 -0.003621  0.606623 -0.348645"
      ]
     },
     "execution_count": 47,
     "metadata": {},
     "output_type": "execute_result"
    }
   ],
   "source": [
    "df.head() # show top 5 rows"
   ]
  },
  {
   "cell_type": "code",
   "execution_count": 48,
   "id": "81b00c9e-9f2c-4ace-ad1e-c9b031d8b395",
   "metadata": {},
   "outputs": [
    {
     "data": {
      "text/html": [
       "<div>\n",
       "<style scoped>\n",
       "    .dataframe tbody tr th:only-of-type {\n",
       "        vertical-align: middle;\n",
       "    }\n",
       "\n",
       "    .dataframe tbody tr th {\n",
       "        vertical-align: top;\n",
       "    }\n",
       "\n",
       "    .dataframe thead th {\n",
       "        text-align: right;\n",
       "    }\n",
       "</style>\n",
       "<table border=\"1\" class=\"dataframe\">\n",
       "  <thead>\n",
       "    <tr style=\"text-align: right;\">\n",
       "      <th></th>\n",
       "      <th>A</th>\n",
       "      <th>B</th>\n",
       "      <th>C</th>\n",
       "      <th>D</th>\n",
       "    </tr>\n",
       "  </thead>\n",
       "  <tbody>\n",
       "    <tr>\n",
       "      <th>2013-01-05</th>\n",
       "      <td>-0.642956</td>\n",
       "      <td>-0.003621</td>\n",
       "      <td>0.606623</td>\n",
       "      <td>-0.348645</td>\n",
       "    </tr>\n",
       "    <tr>\n",
       "      <th>2013-01-06</th>\n",
       "      <td>1.275841</td>\n",
       "      <td>0.310626</td>\n",
       "      <td>0.202771</td>\n",
       "      <td>0.687557</td>\n",
       "    </tr>\n",
       "  </tbody>\n",
       "</table>\n",
       "</div>"
      ],
      "text/plain": [
       "                   A         B         C         D\n",
       "2013-01-05 -0.642956 -0.003621  0.606623 -0.348645\n",
       "2013-01-06  1.275841  0.310626  0.202771  0.687557"
      ]
     },
     "execution_count": 48,
     "metadata": {},
     "output_type": "execute_result"
    }
   ],
   "source": [
    "df.tail(2) # show last 2 rows"
   ]
  },
  {
   "cell_type": "code",
   "execution_count": 49,
   "id": "26de20ce-2ce4-4196-8418-3a240cd1a601",
   "metadata": {},
   "outputs": [
    {
     "data": {
      "text/plain": [
       "array([[ 0.16790684, -1.49883261,  0.97236593, -1.37492115],\n",
       "       [-0.36028869,  0.26921116,  1.56750245, -0.51778848],\n",
       "       [ 1.0238336 ,  1.44411915, -0.64993342,  0.83442431],\n",
       "       [ 0.43847547,  0.79026161,  2.44360582,  1.79607658],\n",
       "       [-0.64295594, -0.00362136,  0.60662324, -0.34864466],\n",
       "       [ 1.27584124,  0.31062579,  0.20277129,  0.68755693]])"
      ]
     },
     "execution_count": 49,
     "metadata": {},
     "output_type": "execute_result"
    }
   ],
   "source": [
    "df.to_numpy() # convert to numpy matrix"
   ]
  },
  {
   "cell_type": "code",
   "execution_count": 50,
   "id": "07aba3a7-4066-4e4b-8ce0-832e5021a3c2",
   "metadata": {},
   "outputs": [
    {
     "data": {
      "text/plain": [
       "2013-01-01    0.167907\n",
       "2013-01-02   -0.360289\n",
       "2013-01-03    1.023834\n",
       "2013-01-04    0.438475\n",
       "2013-01-05   -0.642956\n",
       "2013-01-06    1.275841\n",
       "Freq: D, Name: A, dtype: float64"
      ]
     },
     "execution_count": 50,
     "metadata": {},
     "output_type": "execute_result"
    }
   ],
   "source": [
    "df[\"A\"] # Get a column"
   ]
  },
  {
   "cell_type": "code",
   "execution_count": 51,
   "id": "57e8b18a-40c4-4400-9561-0869fd200d00",
   "metadata": {},
   "outputs": [
    {
     "data": {
      "text/plain": [
       "A    0.438475\n",
       "B    0.790262\n",
       "C    2.443606\n",
       "D    1.796077\n",
       "Name: 2013-01-04 00:00:00, dtype: float64"
      ]
     },
     "execution_count": 51,
     "metadata": {},
     "output_type": "execute_result"
    }
   ],
   "source": [
    "df.iloc[3] # select by position"
   ]
  },
  {
   "cell_type": "code",
   "execution_count": 52,
   "id": "8b9e0464-04b5-4c13-a97a-5234cd9af030",
   "metadata": {},
   "outputs": [
    {
     "data": {
      "text/html": [
       "<div>\n",
       "<style scoped>\n",
       "    .dataframe tbody tr th:only-of-type {\n",
       "        vertical-align: middle;\n",
       "    }\n",
       "\n",
       "    .dataframe tbody tr th {\n",
       "        vertical-align: top;\n",
       "    }\n",
       "\n",
       "    .dataframe thead th {\n",
       "        text-align: right;\n",
       "    }\n",
       "</style>\n",
       "<table border=\"1\" class=\"dataframe\">\n",
       "  <thead>\n",
       "    <tr style=\"text-align: right;\">\n",
       "      <th></th>\n",
       "      <th>A</th>\n",
       "      <th>B</th>\n",
       "      <th>C</th>\n",
       "      <th>D</th>\n",
       "    </tr>\n",
       "  </thead>\n",
       "  <tbody>\n",
       "    <tr>\n",
       "      <th>2013-01-01</th>\n",
       "      <td>0.167907</td>\n",
       "      <td>-1.498833</td>\n",
       "      <td>0.972366</td>\n",
       "      <td>-1.374921</td>\n",
       "    </tr>\n",
       "    <tr>\n",
       "      <th>2013-01-03</th>\n",
       "      <td>1.023834</td>\n",
       "      <td>1.444119</td>\n",
       "      <td>-0.649933</td>\n",
       "      <td>0.834424</td>\n",
       "    </tr>\n",
       "    <tr>\n",
       "      <th>2013-01-04</th>\n",
       "      <td>0.438475</td>\n",
       "      <td>0.790262</td>\n",
       "      <td>2.443606</td>\n",
       "      <td>1.796077</td>\n",
       "    </tr>\n",
       "    <tr>\n",
       "      <th>2013-01-06</th>\n",
       "      <td>1.275841</td>\n",
       "      <td>0.310626</td>\n",
       "      <td>0.202771</td>\n",
       "      <td>0.687557</td>\n",
       "    </tr>\n",
       "  </tbody>\n",
       "</table>\n",
       "</div>"
      ],
      "text/plain": [
       "                   A         B         C         D\n",
       "2013-01-01  0.167907 -1.498833  0.972366 -1.374921\n",
       "2013-01-03  1.023834  1.444119 -0.649933  0.834424\n",
       "2013-01-04  0.438475  0.790262  2.443606  1.796077\n",
       "2013-01-06  1.275841  0.310626  0.202771  0.687557"
      ]
     },
     "execution_count": 52,
     "metadata": {},
     "output_type": "execute_result"
    }
   ],
   "source": [
    "df[df[\"A\"] > 0] # Conditional selection"
   ]
  },
  {
   "cell_type": "markdown",
   "id": "a16f2e37-230c-487c-805f-a46931a3db26",
   "metadata": {},
   "source": [
    "#### Grouping"
   ]
  },
  {
   "cell_type": "code",
   "execution_count": 53,
   "id": "55af5f62-aa71-443b-bd83-13e5a04a6a46",
   "metadata": {},
   "outputs": [],
   "source": [
    "df = pd.DataFrame(\n",
    "   ....:     {\n",
    "   ....:         \"A\": [\"foo\", \"bar\", \"foo\", \"bar\", \"foo\", \"bar\", \"foo\", \"foo\"],\n",
    "   ....:         \"B\": [\"one\", \"one\", \"two\", \"three\", \"two\", \"two\", \"one\", \"three\"],\n",
    "   ....:         \"C\": np.random.randn(8),\n",
    "   ....:         \"D\": np.random.randn(8),\n",
    "   ....:     }\n",
    "   ....: )"
   ]
  },
  {
   "cell_type": "code",
   "execution_count": 54,
   "id": "86b0ec24-522a-4e75-b0c0-d9e9db8cbd82",
   "metadata": {},
   "outputs": [
    {
     "data": {
      "text/html": [
       "<div>\n",
       "<style scoped>\n",
       "    .dataframe tbody tr th:only-of-type {\n",
       "        vertical-align: middle;\n",
       "    }\n",
       "\n",
       "    .dataframe tbody tr th {\n",
       "        vertical-align: top;\n",
       "    }\n",
       "\n",
       "    .dataframe thead th {\n",
       "        text-align: right;\n",
       "    }\n",
       "</style>\n",
       "<table border=\"1\" class=\"dataframe\">\n",
       "  <thead>\n",
       "    <tr style=\"text-align: right;\">\n",
       "      <th></th>\n",
       "      <th>A</th>\n",
       "      <th>B</th>\n",
       "      <th>C</th>\n",
       "      <th>D</th>\n",
       "    </tr>\n",
       "  </thead>\n",
       "  <tbody>\n",
       "    <tr>\n",
       "      <th>0</th>\n",
       "      <td>foo</td>\n",
       "      <td>one</td>\n",
       "      <td>0.413388</td>\n",
       "      <td>0.671823</td>\n",
       "    </tr>\n",
       "    <tr>\n",
       "      <th>1</th>\n",
       "      <td>bar</td>\n",
       "      <td>one</td>\n",
       "      <td>-0.146946</td>\n",
       "      <td>0.013185</td>\n",
       "    </tr>\n",
       "    <tr>\n",
       "      <th>2</th>\n",
       "      <td>foo</td>\n",
       "      <td>two</td>\n",
       "      <td>-0.407300</td>\n",
       "      <td>1.863314</td>\n",
       "    </tr>\n",
       "    <tr>\n",
       "      <th>3</th>\n",
       "      <td>bar</td>\n",
       "      <td>three</td>\n",
       "      <td>-0.812815</td>\n",
       "      <td>0.139784</td>\n",
       "    </tr>\n",
       "    <tr>\n",
       "      <th>4</th>\n",
       "      <td>foo</td>\n",
       "      <td>two</td>\n",
       "      <td>-0.901086</td>\n",
       "      <td>-2.019023</td>\n",
       "    </tr>\n",
       "    <tr>\n",
       "      <th>5</th>\n",
       "      <td>bar</td>\n",
       "      <td>two</td>\n",
       "      <td>0.687267</td>\n",
       "      <td>1.112648</td>\n",
       "    </tr>\n",
       "    <tr>\n",
       "      <th>6</th>\n",
       "      <td>foo</td>\n",
       "      <td>one</td>\n",
       "      <td>0.277321</td>\n",
       "      <td>-0.633406</td>\n",
       "    </tr>\n",
       "    <tr>\n",
       "      <th>7</th>\n",
       "      <td>foo</td>\n",
       "      <td>three</td>\n",
       "      <td>0.053770</td>\n",
       "      <td>-0.088355</td>\n",
       "    </tr>\n",
       "  </tbody>\n",
       "</table>\n",
       "</div>"
      ],
      "text/plain": [
       "     A      B         C         D\n",
       "0  foo    one  0.413388  0.671823\n",
       "1  bar    one -0.146946  0.013185\n",
       "2  foo    two -0.407300  1.863314\n",
       "3  bar  three -0.812815  0.139784\n",
       "4  foo    two -0.901086 -2.019023\n",
       "5  bar    two  0.687267  1.112648\n",
       "6  foo    one  0.277321 -0.633406\n",
       "7  foo  three  0.053770 -0.088355"
      ]
     },
     "execution_count": 54,
     "metadata": {},
     "output_type": "execute_result"
    }
   ],
   "source": [
    "df"
   ]
  },
  {
   "cell_type": "code",
   "execution_count": 55,
   "id": "f0308b8e-1f50-4d4a-8bf3-07bd34233165",
   "metadata": {},
   "outputs": [
    {
     "data": {
      "text/html": [
       "<div>\n",
       "<style scoped>\n",
       "    .dataframe tbody tr th:only-of-type {\n",
       "        vertical-align: middle;\n",
       "    }\n",
       "\n",
       "    .dataframe tbody tr th {\n",
       "        vertical-align: top;\n",
       "    }\n",
       "\n",
       "    .dataframe thead th {\n",
       "        text-align: right;\n",
       "    }\n",
       "</style>\n",
       "<table border=\"1\" class=\"dataframe\">\n",
       "  <thead>\n",
       "    <tr style=\"text-align: right;\">\n",
       "      <th></th>\n",
       "      <th>C</th>\n",
       "      <th>D</th>\n",
       "    </tr>\n",
       "    <tr>\n",
       "      <th>A</th>\n",
       "      <th></th>\n",
       "      <th></th>\n",
       "    </tr>\n",
       "  </thead>\n",
       "  <tbody>\n",
       "    <tr>\n",
       "      <th>bar</th>\n",
       "      <td>-0.272494</td>\n",
       "      <td>1.265617</td>\n",
       "    </tr>\n",
       "    <tr>\n",
       "      <th>foo</th>\n",
       "      <td>-0.563907</td>\n",
       "      <td>-0.205647</td>\n",
       "    </tr>\n",
       "  </tbody>\n",
       "</table>\n",
       "</div>"
      ],
      "text/plain": [
       "            C         D\n",
       "A                      \n",
       "bar -0.272494  1.265617\n",
       "foo -0.563907 -0.205647"
      ]
     },
     "execution_count": 55,
     "metadata": {},
     "output_type": "execute_result"
    }
   ],
   "source": [
    "df.groupby(\"A\").sum() # Add the conditional columns"
   ]
  },
  {
   "cell_type": "markdown",
   "id": "24d0b7af-7e5d-479a-a058-f5128eec7e3e",
   "metadata": {},
   "source": [
    "#### Plotting"
   ]
  },
  {
   "cell_type": "code",
   "execution_count": 56,
   "id": "0e9dc227-69fd-46b4-a99a-b40a39d59bde",
   "metadata": {},
   "outputs": [
    {
     "data": {
      "text/plain": [
       "<AxesSubplot:>"
      ]
     },
     "execution_count": 56,
     "metadata": {},
     "output_type": "execute_result"
    },
    {
     "data": {
      "image/png": "[encoded data removed]",
      "text/plain": [
       "<Figure size 432x288 with 1 Axes>"
      ]
     },
     "metadata": {
      "needs_background": "light"
     },
     "output_type": "display_data"
    }
   ],
   "source": [
    "import matplotlib.pyplot as plt\n",
    "plt.close(\"all\")\n",
    "ts = pd.Series(np.random.randn(1000), index=pd.date_range(\"1/1/2000\", periods=1000))\n",
    "ts = ts.cumsum()\n",
    "ts.plot()"
   ]
  },
  {
   "cell_type": "markdown",
   "id": "9b108b6a-6eea-4e22-96e4-501c94d0330c",
   "metadata": {},
   "source": [
    "#### Merge"
   ]
  },
  {
   "cell_type": "code",
   "execution_count": 57,
   "id": "4a2b5da0-c607-4793-b7cc-003679d4c5f8",
   "metadata": {},
   "outputs": [],
   "source": [
    "df = pd.DataFrame(np.random.randn(10, 4))"
   ]
  },
  {
   "cell_type": "code",
   "execution_count": 58,
   "id": "b8506b68-54d2-4a28-8f48-f45f056d0244",
   "metadata": {},
   "outputs": [
    {
     "data": {
      "text/html": [
       "<div>\n",
       "<style scoped>\n",
       "    .dataframe tbody tr th:only-of-type {\n",
       "        vertical-align: middle;\n",
       "    }\n",
       "\n",
       "    .dataframe tbody tr th {\n",
       "        vertical-align: top;\n",
       "    }\n",
       "\n",
       "    .dataframe thead th {\n",
       "        text-align: right;\n",
       "    }\n",
       "</style>\n",
       "<table border=\"1\" class=\"dataframe\">\n",
       "  <thead>\n",
       "    <tr style=\"text-align: right;\">\n",
       "      <th></th>\n",
       "      <th>0</th>\n",
       "      <th>1</th>\n",
       "      <th>2</th>\n",
       "      <th>3</th>\n",
       "    </tr>\n",
       "  </thead>\n",
       "  <tbody>\n",
       "    <tr>\n",
       "      <th>0</th>\n",
       "      <td>0.397854</td>\n",
       "      <td>-0.952723</td>\n",
       "      <td>-0.065497</td>\n",
       "      <td>0.358242</td>\n",
       "    </tr>\n",
       "    <tr>\n",
       "      <th>1</th>\n",
       "      <td>-1.128127</td>\n",
       "      <td>0.616498</td>\n",
       "      <td>-0.018737</td>\n",
       "      <td>0.714973</td>\n",
       "    </tr>\n",
       "    <tr>\n",
       "      <th>2</th>\n",
       "      <td>-0.934920</td>\n",
       "      <td>0.170506</td>\n",
       "      <td>0.521846</td>\n",
       "      <td>-1.011132</td>\n",
       "    </tr>\n",
       "    <tr>\n",
       "      <th>3</th>\n",
       "      <td>1.962388</td>\n",
       "      <td>-0.525845</td>\n",
       "      <td>0.761408</td>\n",
       "      <td>-0.052581</td>\n",
       "    </tr>\n",
       "    <tr>\n",
       "      <th>4</th>\n",
       "      <td>-1.588741</td>\n",
       "      <td>-0.498221</td>\n",
       "      <td>1.311745</td>\n",
       "      <td>-1.432070</td>\n",
       "    </tr>\n",
       "    <tr>\n",
       "      <th>5</th>\n",
       "      <td>0.200908</td>\n",
       "      <td>-1.340690</td>\n",
       "      <td>0.877553</td>\n",
       "      <td>-1.389227</td>\n",
       "    </tr>\n",
       "    <tr>\n",
       "      <th>6</th>\n",
       "      <td>0.330328</td>\n",
       "      <td>0.296202</td>\n",
       "      <td>0.665544</td>\n",
       "      <td>0.647873</td>\n",
       "    </tr>\n",
       "    <tr>\n",
       "      <th>7</th>\n",
       "      <td>0.852157</td>\n",
       "      <td>-0.639021</td>\n",
       "      <td>-0.149094</td>\n",
       "      <td>-0.490757</td>\n",
       "    </tr>\n",
       "    <tr>\n",
       "      <th>8</th>\n",
       "      <td>-0.070625</td>\n",
       "      <td>-0.458344</td>\n",
       "      <td>-1.437000</td>\n",
       "      <td>1.302834</td>\n",
       "    </tr>\n",
       "    <tr>\n",
       "      <th>9</th>\n",
       "      <td>-0.023421</td>\n",
       "      <td>0.258343</td>\n",
       "      <td>-0.518585</td>\n",
       "      <td>0.060313</td>\n",
       "    </tr>\n",
       "  </tbody>\n",
       "</table>\n",
       "</div>"
      ],
      "text/plain": [
       "          0         1         2         3\n",
       "0  0.397854 -0.952723 -0.065497  0.358242\n",
       "1 -1.128127  0.616498 -0.018737  0.714973\n",
       "2 -0.934920  0.170506  0.521846 -1.011132\n",
       "3  1.962388 -0.525845  0.761408 -0.052581\n",
       "4 -1.588741 -0.498221  1.311745 -1.432070\n",
       "5  0.200908 -1.340690  0.877553 -1.389227\n",
       "6  0.330328  0.296202  0.665544  0.647873\n",
       "7  0.852157 -0.639021 -0.149094 -0.490757\n",
       "8 -0.070625 -0.458344 -1.437000  1.302834\n",
       "9 -0.023421  0.258343 -0.518585  0.060313"
      ]
     },
     "execution_count": 58,
     "metadata": {},
     "output_type": "execute_result"
    }
   ],
   "source": [
    "df"
   ]
  },
  {
   "cell_type": "code",
   "execution_count": 59,
   "id": "f1d4b442-f414-42a7-8e7a-74834975a440",
   "metadata": {},
   "outputs": [],
   "source": [
    "pieces = [df[:3], df[3:7], df[7:]]"
   ]
  },
  {
   "cell_type": "code",
   "execution_count": 60,
   "id": "27d3d9e5-4847-4d4e-a5e1-fa698ecbf545",
   "metadata": {},
   "outputs": [
    {
     "data": {
      "text/plain": [
       "[          0         1         2         3\n",
       " 0  0.397854 -0.952723 -0.065497  0.358242\n",
       " 1 -1.128127  0.616498 -0.018737  0.714973\n",
       " 2 -0.934920  0.170506  0.521846 -1.011132,\n",
       "           0         1         2         3\n",
       " 3  1.962388 -0.525845  0.761408 -0.052581\n",
       " 4 -1.588741 -0.498221  1.311745 -1.432070\n",
       " 5  0.200908 -1.340690  0.877553 -1.389227\n",
       " 6  0.330328  0.296202  0.665544  0.647873,\n",
       "           0         1         2         3\n",
       " 7  0.852157 -0.639021 -0.149094 -0.490757\n",
       " 8 -0.070625 -0.458344 -1.437000  1.302834\n",
       " 9 -0.023421  0.258343 -0.518585  0.060313]"
      ]
     },
     "execution_count": 60,
     "metadata": {},
     "output_type": "execute_result"
    }
   ],
   "source": [
    "pieces"
   ]
  },
  {
   "cell_type": "code",
   "execution_count": 61,
   "id": "054e4e68-7e39-4d66-92b5-0c8a60193283",
   "metadata": {},
   "outputs": [
    {
     "data": {
      "text/html": [
       "<div>\n",
       "<style scoped>\n",
       "    .dataframe tbody tr th:only-of-type {\n",
       "        vertical-align: middle;\n",
       "    }\n",
       "\n",
       "    .dataframe tbody tr th {\n",
       "        vertical-align: top;\n",
       "    }\n",
       "\n",
       "    .dataframe thead th {\n",
       "        text-align: right;\n",
       "    }\n",
       "</style>\n",
       "<table border=\"1\" class=\"dataframe\">\n",
       "  <thead>\n",
       "    <tr style=\"text-align: right;\">\n",
       "      <th></th>\n",
       "      <th>0</th>\n",
       "      <th>1</th>\n",
       "      <th>2</th>\n",
       "      <th>3</th>\n",
       "    </tr>\n",
       "  </thead>\n",
       "  <tbody>\n",
       "    <tr>\n",
       "      <th>0</th>\n",
       "      <td>0.397854</td>\n",
       "      <td>-0.952723</td>\n",
       "      <td>-0.065497</td>\n",
       "      <td>0.358242</td>\n",
       "    </tr>\n",
       "    <tr>\n",
       "      <th>1</th>\n",
       "      <td>-1.128127</td>\n",
       "      <td>0.616498</td>\n",
       "      <td>-0.018737</td>\n",
       "      <td>0.714973</td>\n",
       "    </tr>\n",
       "    <tr>\n",
       "      <th>2</th>\n",
       "      <td>-0.934920</td>\n",
       "      <td>0.170506</td>\n",
       "      <td>0.521846</td>\n",
       "      <td>-1.011132</td>\n",
       "    </tr>\n",
       "    <tr>\n",
       "      <th>3</th>\n",
       "      <td>1.962388</td>\n",
       "      <td>-0.525845</td>\n",
       "      <td>0.761408</td>\n",
       "      <td>-0.052581</td>\n",
       "    </tr>\n",
       "    <tr>\n",
       "      <th>4</th>\n",
       "      <td>-1.588741</td>\n",
       "      <td>-0.498221</td>\n",
       "      <td>1.311745</td>\n",
       "      <td>-1.432070</td>\n",
       "    </tr>\n",
       "    <tr>\n",
       "      <th>5</th>\n",
       "      <td>0.200908</td>\n",
       "      <td>-1.340690</td>\n",
       "      <td>0.877553</td>\n",
       "      <td>-1.389227</td>\n",
       "    </tr>\n",
       "    <tr>\n",
       "      <th>6</th>\n",
       "      <td>0.330328</td>\n",
       "      <td>0.296202</td>\n",
       "      <td>0.665544</td>\n",
       "      <td>0.647873</td>\n",
       "    </tr>\n",
       "    <tr>\n",
       "      <th>7</th>\n",
       "      <td>0.852157</td>\n",
       "      <td>-0.639021</td>\n",
       "      <td>-0.149094</td>\n",
       "      <td>-0.490757</td>\n",
       "    </tr>\n",
       "    <tr>\n",
       "      <th>8</th>\n",
       "      <td>-0.070625</td>\n",
       "      <td>-0.458344</td>\n",
       "      <td>-1.437000</td>\n",
       "      <td>1.302834</td>\n",
       "    </tr>\n",
       "    <tr>\n",
       "      <th>9</th>\n",
       "      <td>-0.023421</td>\n",
       "      <td>0.258343</td>\n",
       "      <td>-0.518585</td>\n",
       "      <td>0.060313</td>\n",
       "    </tr>\n",
       "  </tbody>\n",
       "</table>\n",
       "</div>"
      ],
      "text/plain": [
       "          0         1         2         3\n",
       "0  0.397854 -0.952723 -0.065497  0.358242\n",
       "1 -1.128127  0.616498 -0.018737  0.714973\n",
       "2 -0.934920  0.170506  0.521846 -1.011132\n",
       "3  1.962388 -0.525845  0.761408 -0.052581\n",
       "4 -1.588741 -0.498221  1.311745 -1.432070\n",
       "5  0.200908 -1.340690  0.877553 -1.389227\n",
       "6  0.330328  0.296202  0.665544  0.647873\n",
       "7  0.852157 -0.639021 -0.149094 -0.490757\n",
       "8 -0.070625 -0.458344 -1.437000  1.302834\n",
       "9 -0.023421  0.258343 -0.518585  0.060313"
      ]
     },
     "execution_count": 61,
     "metadata": {},
     "output_type": "execute_result"
    }
   ],
   "source": [
    "pd.concat(pieces)"
   ]
  },
  {
   "cell_type": "markdown",
   "id": "7ddc0863-8ce7-4ae2-bbbc-a33c4961b34e",
   "metadata": {},
   "source": [
    "#### Sparse data structures"
   ]
  },
  {
   "cell_type": "code",
   "execution_count": 62,
   "id": "38bde176-5c89-4e92-bcec-f3e962677e90",
   "metadata": {},
   "outputs": [],
   "source": [
    "arr = np.random.randn(10)\n",
    "arr[2:-2] = np.nan\n",
    "ts = pd.Series(pd.arrays.SparseArray(arr))"
   ]
  },
  {
   "cell_type": "code",
   "execution_count": 63,
   "id": "07f278d5-5963-46f1-95fc-7a8d4360ac48",
   "metadata": {},
   "outputs": [
    {
     "data": {
      "text/plain": [
       "0   -0.131974\n",
       "1   -0.682862\n",
       "2         NaN\n",
       "3         NaN\n",
       "4         NaN\n",
       "5         NaN\n",
       "6         NaN\n",
       "7         NaN\n",
       "8   -0.069441\n",
       "9    0.341863\n",
       "dtype: Sparse[float64, nan]"
      ]
     },
     "execution_count": 63,
     "metadata": {},
     "output_type": "execute_result"
    }
   ],
   "source": [
    "ts"
   ]
  },
  {
   "cell_type": "markdown",
   "id": "f08864bd-b840-4967-b850-c153fb2f1ca7",
   "metadata": {},
   "source": [
    "#### Categorical data"
   ]
  },
  {
   "cell_type": "code",
   "execution_count": 64,
   "id": "15b75de0-ff3a-45d4-b7be-1edd6a5badef",
   "metadata": {},
   "outputs": [],
   "source": [
    "df = pd.DataFrame(\n",
    "   .....:     {\"id\": [1, 2, 3, 4, 5, 6], \"raw_grade\": [\"a\", \"b\", \"b\", \"a\", \"a\", \"e\"]}\n",
    "   .....: )\n",
    "   .....: "
   ]
  },
  {
   "cell_type": "code",
   "execution_count": 65,
   "id": "236ad304-2744-4ad0-be82-675c9b1539d2",
   "metadata": {},
   "outputs": [],
   "source": [
    "df[\"grade\"] = df[\"raw_grade\"].astype(\"category\")"
   ]
  },
  {
   "cell_type": "code",
   "execution_count": 66,
   "id": "6d9fde16-f08c-4e59-a84d-d3fca9fcf73c",
   "metadata": {},
   "outputs": [
    {
     "data": {
      "text/plain": [
       "0    a\n",
       "1    b\n",
       "2    b\n",
       "3    a\n",
       "4    a\n",
       "5    e\n",
       "Name: grade, dtype: category\n",
       "Categories (3, object): ['a', 'b', 'e']"
      ]
     },
     "execution_count": 66,
     "metadata": {},
     "output_type": "execute_result"
    }
   ],
   "source": [
    "df[\"grade\"]"
   ]
  },
  {
   "cell_type": "code",
   "execution_count": 67,
   "id": "a58a94e5-48fd-4c80-920e-7c7f7ab82b0e",
   "metadata": {},
   "outputs": [],
   "source": []
  },
  {
   "cell_type": "code",
   "execution_count": 68,
   "id": "852436c9-6ee3-4516-b634-1d82c99cbf7a",
   "metadata": {},
   "outputs": [
    {
     "data": {
      "text/plain": [
       "0    very good\n",
       "1         good\n",
       "2         good\n",
       "3    very good\n",
       "4    very good\n",
       "5     very bad\n",
       "Name: grade, dtype: category\n",
       "Categories (3, object): ['very good', 'good', 'very bad']"
      ]
     },
     "execution_count": 68,
     "metadata": {},
     "output_type": "execute_result"
    }
   ],
   "source": []
  },
  {
   "cell_type": "code",
   "execution_count": null,
   "id": "bbf3fb0b-b88b-4f38-8f08-4ec7fe16ac07",
   "metadata": {},
   "outputs": [],
   "source": []
  },
  {
   "cell_type": "code",
   "execution_count": null,
   "id": "cb2128b4-96e4-4ee3-b375-339cda09f9d1",
   "metadata": {},
   "outputs": [],
   "source": []
  }
 ],
 "metadata": {
  "kernelspec": {
   "display_name": "Python 3 (ipykernel)",
   "language": "python",
   "name": "python3"
  },
  "language_info": {
   "codemirror_mode": {
    "name": "ipython",
    "version": 3
   },
   "file_extension": ".py",
   "mimetype": "text/x-python",
   "name": "python",
   "nbconvert_exporter": "python",
   "pygments_lexer": "ipython3",
   "version": "3.10.0"
  }
 },
 "nbformat": 4,
 "nbformat_minor": 5
}
